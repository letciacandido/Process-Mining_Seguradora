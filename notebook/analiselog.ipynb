{
 "cells": [
  {
   "cell_type": "markdown",
   "metadata": {},
   "source": [
    "## Importação, Análises Gerais e Transformação dos Dados"
   ]
  },
  {
   "cell_type": "markdown",
   "metadata": {},
   "source": [
    "### Bibliotecas"
   ]
  },
  {
   "cell_type": "code",
   "execution_count": 12,
   "metadata": {},
   "outputs": [],
   "source": [
    "import pandas as pd"
   ]
  },
  {
   "cell_type": "markdown",
   "metadata": {},
   "source": [
    "### Importando dataset"
   ]
  },
  {
   "cell_type": "code",
   "execution_count": 13,
   "metadata": {},
   "outputs": [],
   "source": [
    "df = pd.read_csv(\"../data/Insurance_claims_event_log_V1.csv\", sep=',', decimal=',') "
   ]
  },
  {
   "cell_type": "markdown",
   "metadata": {},
   "source": [
    "### Análises gerais\n",
    "Head, Tail, datatypes, data columns, entries, count nulls, uniques"
   ]
  },
  {
   "cell_type": "code",
   "execution_count": 30,
   "metadata": {},
   "outputs": [
    {
     "data": {
      "text/html": [
       "<div>\n",
       "<style scoped>\n",
       "    .dataframe tbody tr th:only-of-type {\n",
       "        vertical-align: middle;\n",
       "    }\n",
       "\n",
       "    .dataframe tbody tr th {\n",
       "        vertical-align: top;\n",
       "    }\n",
       "\n",
       "    .dataframe thead th {\n",
       "        text-align: right;\n",
       "    }\n",
       "</style>\n",
       "<table border=\"1\" class=\"dataframe\">\n",
       "  <thead>\n",
       "    <tr style=\"text-align: right;\">\n",
       "      <th></th>\n",
       "      <th>case_id</th>\n",
       "      <th>activity_name</th>\n",
       "      <th>timestamp</th>\n",
       "      <th>claimant_name</th>\n",
       "      <th>agent_name</th>\n",
       "      <th>adjuster_name</th>\n",
       "      <th>claim_amount</th>\n",
       "      <th>claimant_age</th>\n",
       "      <th>type_of_policy</th>\n",
       "      <th>car_make</th>\n",
       "      <th>car_model</th>\n",
       "      <th>car_year</th>\n",
       "      <th>type_of_accident</th>\n",
       "      <th>user_type</th>\n",
       "    </tr>\n",
       "  </thead>\n",
       "  <tbody>\n",
       "    <tr>\n",
       "      <th>0</th>\n",
       "      <td>a626bc58-a7b2-4eff-aca9-2a622cd0c492</td>\n",
       "      <td>First Notification of Loss (FNOL)</td>\n",
       "      <td>2020-09-24 14:08:42.423530</td>\n",
       "      <td>Karen Lopez</td>\n",
       "      <td>Thomas Cantu</td>\n",
       "      <td>Ian Garcia</td>\n",
       "      <td>1914.96</td>\n",
       "      <td>75</td>\n",
       "      <td>Collision</td>\n",
       "      <td>Honda</td>\n",
       "      <td>Civic</td>\n",
       "      <td>2012</td>\n",
       "      <td>Rollover</td>\n",
       "      <td>RPA</td>\n",
       "    </tr>\n",
       "    <tr>\n",
       "      <th>1</th>\n",
       "      <td>a626bc58-a7b2-4eff-aca9-2a622cd0c492</td>\n",
       "      <td>Assign Claim</td>\n",
       "      <td>2020-10-13 03:51:28.627923</td>\n",
       "      <td>Karen Lopez</td>\n",
       "      <td>Thomas Cantu</td>\n",
       "      <td>Ian Garcia</td>\n",
       "      <td>1914.96</td>\n",
       "      <td>75</td>\n",
       "      <td>Collision</td>\n",
       "      <td>Honda</td>\n",
       "      <td>Civic</td>\n",
       "      <td>2012</td>\n",
       "      <td>Rollover</td>\n",
       "      <td>RPA</td>\n",
       "    </tr>\n",
       "    <tr>\n",
       "      <th>2</th>\n",
       "      <td>a626bc58-a7b2-4eff-aca9-2a622cd0c492</td>\n",
       "      <td>Claim Decision</td>\n",
       "      <td>2020-10-14 22:30:14.948970</td>\n",
       "      <td>Karen Lopez</td>\n",
       "      <td>Thomas Cantu</td>\n",
       "      <td>Ian Garcia</td>\n",
       "      <td>1914.96</td>\n",
       "      <td>75</td>\n",
       "      <td>Collision</td>\n",
       "      <td>Honda</td>\n",
       "      <td>Civic</td>\n",
       "      <td>2012</td>\n",
       "      <td>Rollover</td>\n",
       "      <td>RPA</td>\n",
       "    </tr>\n",
       "    <tr>\n",
       "      <th>3</th>\n",
       "      <td>a626bc58-a7b2-4eff-aca9-2a622cd0c492</td>\n",
       "      <td>Set Reserve</td>\n",
       "      <td>2020-10-24 11:49:39.053890</td>\n",
       "      <td>Karen Lopez</td>\n",
       "      <td>Thomas Cantu</td>\n",
       "      <td>Ian Garcia</td>\n",
       "      <td>1914.96</td>\n",
       "      <td>75</td>\n",
       "      <td>Collision</td>\n",
       "      <td>Honda</td>\n",
       "      <td>Civic</td>\n",
       "      <td>2012</td>\n",
       "      <td>Rollover</td>\n",
       "      <td>RPA</td>\n",
       "    </tr>\n",
       "    <tr>\n",
       "      <th>4</th>\n",
       "      <td>a626bc58-a7b2-4eff-aca9-2a622cd0c492</td>\n",
       "      <td>Payment Sent</td>\n",
       "      <td>2020-10-27 05:46:04.378718</td>\n",
       "      <td>Karen Lopez</td>\n",
       "      <td>Thomas Cantu</td>\n",
       "      <td>Ian Garcia</td>\n",
       "      <td>1914.96</td>\n",
       "      <td>75</td>\n",
       "      <td>Collision</td>\n",
       "      <td>Honda</td>\n",
       "      <td>Civic</td>\n",
       "      <td>2012</td>\n",
       "      <td>Rollover</td>\n",
       "      <td>RPA</td>\n",
       "    </tr>\n",
       "  </tbody>\n",
       "</table>\n",
       "</div>"
      ],
      "text/plain": [
       "                                case_id                      activity_name  \\\n",
       "0  a626bc58-a7b2-4eff-aca9-2a622cd0c492  First Notification of Loss (FNOL)   \n",
       "1  a626bc58-a7b2-4eff-aca9-2a622cd0c492                       Assign Claim   \n",
       "2  a626bc58-a7b2-4eff-aca9-2a622cd0c492                     Claim Decision   \n",
       "3  a626bc58-a7b2-4eff-aca9-2a622cd0c492                        Set Reserve   \n",
       "4  a626bc58-a7b2-4eff-aca9-2a622cd0c492                       Payment Sent   \n",
       "\n",
       "                    timestamp claimant_name    agent_name adjuster_name  \\\n",
       "0  2020-09-24 14:08:42.423530   Karen Lopez  Thomas Cantu    Ian Garcia   \n",
       "1  2020-10-13 03:51:28.627923   Karen Lopez  Thomas Cantu    Ian Garcia   \n",
       "2  2020-10-14 22:30:14.948970   Karen Lopez  Thomas Cantu    Ian Garcia   \n",
       "3  2020-10-24 11:49:39.053890   Karen Lopez  Thomas Cantu    Ian Garcia   \n",
       "4  2020-10-27 05:46:04.378718   Karen Lopez  Thomas Cantu    Ian Garcia   \n",
       "\n",
       "  claim_amount  claimant_age type_of_policy car_make car_model  car_year  \\\n",
       "0      1914.96            75      Collision    Honda     Civic      2012   \n",
       "1      1914.96            75      Collision    Honda     Civic      2012   \n",
       "2      1914.96            75      Collision    Honda     Civic      2012   \n",
       "3      1914.96            75      Collision    Honda     Civic      2012   \n",
       "4      1914.96            75      Collision    Honda     Civic      2012   \n",
       "\n",
       "  type_of_accident user_type  \n",
       "0         Rollover       RPA  \n",
       "1         Rollover       RPA  \n",
       "2         Rollover       RPA  \n",
       "3         Rollover       RPA  \n",
       "4         Rollover       RPA  "
      ]
     },
     "execution_count": 30,
     "metadata": {},
     "output_type": "execute_result"
    }
   ],
   "source": [
    "df.head()"
   ]
  },
  {
   "cell_type": "code",
   "execution_count": null,
   "metadata": {},
   "outputs": [],
   "source": [
    "df.tail()"
   ]
  },
  {
   "cell_type": "code",
   "execution_count": 25,
   "metadata": {},
   "outputs": [
    {
     "name": "stdout",
     "output_type": "stream",
     "text": [
      "<class 'pandas.core.frame.DataFrame'>\n",
      "RangeIndex: 180000 entries, 0 to 179999\n",
      "Data columns (total 14 columns):\n",
      " #   Column            Non-Null Count   Dtype \n",
      "---  ------            --------------   ----- \n",
      " 0   case_id           180000 non-null  object\n",
      " 1   activity_name     180000 non-null  object\n",
      " 2   timestamp         180000 non-null  object\n",
      " 3   claimant_name     180000 non-null  object\n",
      " 4   agent_name        180000 non-null  object\n",
      " 5   adjuster_name     180000 non-null  object\n",
      " 6   claim_amount      180000 non-null  object\n",
      " 7   claimant_age      180000 non-null  int64 \n",
      " 8   type_of_policy    180000 non-null  object\n",
      " 9   car_make          180000 non-null  object\n",
      " 10  car_model         180000 non-null  object\n",
      " 11  car_year          180000 non-null  int64 \n",
      " 12  type_of_accident  180000 non-null  object\n",
      " 13  user_type         180000 non-null  object\n",
      "dtypes: int64(2), object(12)\n",
      "memory usage: 19.2+ MB\n"
     ]
    },
    {
     "data": {
      "text/plain": [
       "None"
      ]
     },
     "metadata": {},
     "output_type": "display_data"
    }
   ],
   "source": [
    "display(df.info())"
   ]
  },
  {
   "cell_type": "code",
   "execution_count": 42,
   "metadata": {},
   "outputs": [
    {
     "data": {
      "text/html": [
       "<div>\n",
       "<style scoped>\n",
       "    .dataframe tbody tr th:only-of-type {\n",
       "        vertical-align: middle;\n",
       "    }\n",
       "\n",
       "    .dataframe tbody tr th {\n",
       "        vertical-align: top;\n",
       "    }\n",
       "\n",
       "    .dataframe thead th {\n",
       "        text-align: right;\n",
       "    }\n",
       "</style>\n",
       "<table border=\"1\" class=\"dataframe\">\n",
       "  <thead>\n",
       "    <tr style=\"text-align: right;\">\n",
       "      <th></th>\n",
       "      <th>claim_amount</th>\n",
       "      <th>claimant_age</th>\n",
       "      <th>car_year</th>\n",
       "    </tr>\n",
       "  </thead>\n",
       "  <tbody>\n",
       "    <tr>\n",
       "      <th>count</th>\n",
       "      <td>180000.000000</td>\n",
       "      <td>180000.000000</td>\n",
       "      <td>180000.000000</td>\n",
       "    </tr>\n",
       "    <tr>\n",
       "      <th>mean</th>\n",
       "      <td>5498.598991</td>\n",
       "      <td>51.510233</td>\n",
       "      <td>2016.034367</td>\n",
       "    </tr>\n",
       "    <tr>\n",
       "      <th>std</th>\n",
       "      <td>2601.273015</td>\n",
       "      <td>19.691143</td>\n",
       "      <td>3.745014</td>\n",
       "    </tr>\n",
       "    <tr>\n",
       "      <th>min</th>\n",
       "      <td>1000.280000</td>\n",
       "      <td>18.000000</td>\n",
       "      <td>2010.000000</td>\n",
       "    </tr>\n",
       "    <tr>\n",
       "      <th>25%</th>\n",
       "      <td>3242.482500</td>\n",
       "      <td>34.000000</td>\n",
       "      <td>2013.000000</td>\n",
       "    </tr>\n",
       "    <tr>\n",
       "      <th>50%</th>\n",
       "      <td>5498.965000</td>\n",
       "      <td>52.000000</td>\n",
       "      <td>2016.000000</td>\n",
       "    </tr>\n",
       "    <tr>\n",
       "      <th>75%</th>\n",
       "      <td>7758.817500</td>\n",
       "      <td>69.000000</td>\n",
       "      <td>2019.000000</td>\n",
       "    </tr>\n",
       "    <tr>\n",
       "      <th>max</th>\n",
       "      <td>9999.470000</td>\n",
       "      <td>85.000000</td>\n",
       "      <td>2022.000000</td>\n",
       "    </tr>\n",
       "  </tbody>\n",
       "</table>\n",
       "</div>"
      ],
      "text/plain": [
       "        claim_amount   claimant_age       car_year\n",
       "count  180000.000000  180000.000000  180000.000000\n",
       "mean     5498.598991      51.510233    2016.034367\n",
       "std      2601.273015      19.691143       3.745014\n",
       "min      1000.280000      18.000000    2010.000000\n",
       "25%      3242.482500      34.000000    2013.000000\n",
       "50%      5498.965000      52.000000    2016.000000\n",
       "75%      7758.817500      69.000000    2019.000000\n",
       "max      9999.470000      85.000000    2022.000000"
      ]
     },
     "execution_count": 42,
     "metadata": {},
     "output_type": "execute_result"
    }
   ],
   "source": [
    "df['claim_amount'] = df['claim_amount'].astype(float)\n",
    "\n",
    "df.describe()"
   ]
  },
  {
   "cell_type": "code",
   "execution_count": null,
   "metadata": {},
   "outputs": [],
   "source": [
    "print(\"Unicos de ACTIVITY\", df['activity_name'].unique())\n",
    "print(\"\\nUnicos de MODELO CARRO\", df['modelo_carro'].unique())\n",
    "print(\"\\nUnicos de TIPO DE ACIDENTE\", df['tipo_de_acidente'].unique())\n",
    "print(\"\\nUnicos de TIPO DE POLITICA\", df['tipo_de_politica'].unique())"
   ]
  },
  {
   "cell_type": "code",
   "execution_count": null,
   "metadata": {},
   "outputs": [],
   "source": [
    "display(df['activity_name'].unique())"
   ]
  }
 ],
 "metadata": {
  "kernelspec": {
   "display_name": "PMSeguradoraEnv",
   "language": "python",
   "name": "python3"
  },
  "language_info": {
   "codemirror_mode": {
    "name": "ipython",
    "version": 3
   },
   "file_extension": ".py",
   "mimetype": "text/x-python",
   "name": "python",
   "nbconvert_exporter": "python",
   "pygments_lexer": "ipython3",
   "version": "3.12.2"
  }
 },
 "nbformat": 4,
 "nbformat_minor": 2
}
