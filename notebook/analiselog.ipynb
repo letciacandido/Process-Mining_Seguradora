{
 "cells": [
  {
   "cell_type": "markdown",
   "metadata": {},
   "source": [
    "## Importação, Análises Gerais e Transformação dos Dados"
   ]
  },
  {
   "cell_type": "markdown",
   "metadata": {},
   "source": [
    "### Bibliotecas"
   ]
  },
  {
   "cell_type": "code",
   "execution_count": 56,
   "metadata": {},
   "outputs": [],
   "source": [
    "import pandas as pd\n",
    "import matplotlib.pyplot as plt\n",
    "import numpy as np"
   ]
  },
  {
   "cell_type": "markdown",
   "metadata": {},
   "source": [
    "### Importando dataset"
   ]
  },
  {
   "cell_type": "code",
   "execution_count": 57,
   "metadata": {},
   "outputs": [],
   "source": [
    "df = pd.read_csv(\"../data/Insurance_claims_event_log_V1.csv\", sep=',', decimal=',') "
   ]
  },
  {
   "cell_type": "markdown",
   "metadata": {},
   "source": [
    "### Análises gerais\n",
    "Head, Tail, datatypes, data columns, entries, count nulls, uniques"
   ]
  },
  {
   "cell_type": "code",
   "execution_count": 58,
   "metadata": {},
   "outputs": [
    {
     "data": {
      "text/html": [
       "<div>\n",
       "<style scoped>\n",
       "    .dataframe tbody tr th:only-of-type {\n",
       "        vertical-align: middle;\n",
       "    }\n",
       "\n",
       "    .dataframe tbody tr th {\n",
       "        vertical-align: top;\n",
       "    }\n",
       "\n",
       "    .dataframe thead th {\n",
       "        text-align: right;\n",
       "    }\n",
       "</style>\n",
       "<table border=\"1\" class=\"dataframe\">\n",
       "  <thead>\n",
       "    <tr style=\"text-align: right;\">\n",
       "      <th></th>\n",
       "      <th>case_id</th>\n",
       "      <th>activity_name</th>\n",
       "      <th>timestamp</th>\n",
       "      <th>claimant_name</th>\n",
       "      <th>agent_name</th>\n",
       "      <th>adjuster_name</th>\n",
       "      <th>claim_amount</th>\n",
       "      <th>claimant_age</th>\n",
       "      <th>type_of_policy</th>\n",
       "      <th>car_make</th>\n",
       "      <th>car_model</th>\n",
       "      <th>car_year</th>\n",
       "      <th>type_of_accident</th>\n",
       "      <th>user_type</th>\n",
       "    </tr>\n",
       "  </thead>\n",
       "  <tbody>\n",
       "    <tr>\n",
       "      <th>0</th>\n",
       "      <td>a626bc58-a7b2-4eff-aca9-2a622cd0c492</td>\n",
       "      <td>First Notification of Loss (FNOL)</td>\n",
       "      <td>2020-09-24 14:08:42.423530</td>\n",
       "      <td>Karen Lopez</td>\n",
       "      <td>Thomas Cantu</td>\n",
       "      <td>Ian Garcia</td>\n",
       "      <td>1914.96</td>\n",
       "      <td>75</td>\n",
       "      <td>Collision</td>\n",
       "      <td>Honda</td>\n",
       "      <td>Civic</td>\n",
       "      <td>2012</td>\n",
       "      <td>Rollover</td>\n",
       "      <td>RPA</td>\n",
       "    </tr>\n",
       "    <tr>\n",
       "      <th>1</th>\n",
       "      <td>a626bc58-a7b2-4eff-aca9-2a622cd0c492</td>\n",
       "      <td>Assign Claim</td>\n",
       "      <td>2020-10-13 03:51:28.627923</td>\n",
       "      <td>Karen Lopez</td>\n",
       "      <td>Thomas Cantu</td>\n",
       "      <td>Ian Garcia</td>\n",
       "      <td>1914.96</td>\n",
       "      <td>75</td>\n",
       "      <td>Collision</td>\n",
       "      <td>Honda</td>\n",
       "      <td>Civic</td>\n",
       "      <td>2012</td>\n",
       "      <td>Rollover</td>\n",
       "      <td>RPA</td>\n",
       "    </tr>\n",
       "    <tr>\n",
       "      <th>2</th>\n",
       "      <td>a626bc58-a7b2-4eff-aca9-2a622cd0c492</td>\n",
       "      <td>Claim Decision</td>\n",
       "      <td>2020-10-14 22:30:14.948970</td>\n",
       "      <td>Karen Lopez</td>\n",
       "      <td>Thomas Cantu</td>\n",
       "      <td>Ian Garcia</td>\n",
       "      <td>1914.96</td>\n",
       "      <td>75</td>\n",
       "      <td>Collision</td>\n",
       "      <td>Honda</td>\n",
       "      <td>Civic</td>\n",
       "      <td>2012</td>\n",
       "      <td>Rollover</td>\n",
       "      <td>RPA</td>\n",
       "    </tr>\n",
       "    <tr>\n",
       "      <th>3</th>\n",
       "      <td>a626bc58-a7b2-4eff-aca9-2a622cd0c492</td>\n",
       "      <td>Set Reserve</td>\n",
       "      <td>2020-10-24 11:49:39.053890</td>\n",
       "      <td>Karen Lopez</td>\n",
       "      <td>Thomas Cantu</td>\n",
       "      <td>Ian Garcia</td>\n",
       "      <td>1914.96</td>\n",
       "      <td>75</td>\n",
       "      <td>Collision</td>\n",
       "      <td>Honda</td>\n",
       "      <td>Civic</td>\n",
       "      <td>2012</td>\n",
       "      <td>Rollover</td>\n",
       "      <td>RPA</td>\n",
       "    </tr>\n",
       "    <tr>\n",
       "      <th>4</th>\n",
       "      <td>a626bc58-a7b2-4eff-aca9-2a622cd0c492</td>\n",
       "      <td>Payment Sent</td>\n",
       "      <td>2020-10-27 05:46:04.378718</td>\n",
       "      <td>Karen Lopez</td>\n",
       "      <td>Thomas Cantu</td>\n",
       "      <td>Ian Garcia</td>\n",
       "      <td>1914.96</td>\n",
       "      <td>75</td>\n",
       "      <td>Collision</td>\n",
       "      <td>Honda</td>\n",
       "      <td>Civic</td>\n",
       "      <td>2012</td>\n",
       "      <td>Rollover</td>\n",
       "      <td>RPA</td>\n",
       "    </tr>\n",
       "  </tbody>\n",
       "</table>\n",
       "</div>"
      ],
      "text/plain": [
       "                                case_id                      activity_name  \\\n",
       "0  a626bc58-a7b2-4eff-aca9-2a622cd0c492  First Notification of Loss (FNOL)   \n",
       "1  a626bc58-a7b2-4eff-aca9-2a622cd0c492                       Assign Claim   \n",
       "2  a626bc58-a7b2-4eff-aca9-2a622cd0c492                     Claim Decision   \n",
       "3  a626bc58-a7b2-4eff-aca9-2a622cd0c492                        Set Reserve   \n",
       "4  a626bc58-a7b2-4eff-aca9-2a622cd0c492                       Payment Sent   \n",
       "\n",
       "                    timestamp claimant_name    agent_name adjuster_name  \\\n",
       "0  2020-09-24 14:08:42.423530   Karen Lopez  Thomas Cantu    Ian Garcia   \n",
       "1  2020-10-13 03:51:28.627923   Karen Lopez  Thomas Cantu    Ian Garcia   \n",
       "2  2020-10-14 22:30:14.948970   Karen Lopez  Thomas Cantu    Ian Garcia   \n",
       "3  2020-10-24 11:49:39.053890   Karen Lopez  Thomas Cantu    Ian Garcia   \n",
       "4  2020-10-27 05:46:04.378718   Karen Lopez  Thomas Cantu    Ian Garcia   \n",
       "\n",
       "  claim_amount  claimant_age type_of_policy car_make car_model  car_year  \\\n",
       "0      1914.96            75      Collision    Honda     Civic      2012   \n",
       "1      1914.96            75      Collision    Honda     Civic      2012   \n",
       "2      1914.96            75      Collision    Honda     Civic      2012   \n",
       "3      1914.96            75      Collision    Honda     Civic      2012   \n",
       "4      1914.96            75      Collision    Honda     Civic      2012   \n",
       "\n",
       "  type_of_accident user_type  \n",
       "0         Rollover       RPA  \n",
       "1         Rollover       RPA  \n",
       "2         Rollover       RPA  \n",
       "3         Rollover       RPA  \n",
       "4         Rollover       RPA  "
      ]
     },
     "execution_count": 58,
     "metadata": {},
     "output_type": "execute_result"
    }
   ],
   "source": [
    "df.head()"
   ]
  },
  {
   "cell_type": "code",
   "execution_count": 59,
   "metadata": {},
   "outputs": [
    {
     "data": {
      "text/html": [
       "<div>\n",
       "<style scoped>\n",
       "    .dataframe tbody tr th:only-of-type {\n",
       "        vertical-align: middle;\n",
       "    }\n",
       "\n",
       "    .dataframe tbody tr th {\n",
       "        vertical-align: top;\n",
       "    }\n",
       "\n",
       "    .dataframe thead th {\n",
       "        text-align: right;\n",
       "    }\n",
       "</style>\n",
       "<table border=\"1\" class=\"dataframe\">\n",
       "  <thead>\n",
       "    <tr style=\"text-align: right;\">\n",
       "      <th></th>\n",
       "      <th>case_id</th>\n",
       "      <th>activity_name</th>\n",
       "      <th>timestamp</th>\n",
       "      <th>claimant_name</th>\n",
       "      <th>agent_name</th>\n",
       "      <th>adjuster_name</th>\n",
       "      <th>claim_amount</th>\n",
       "      <th>claimant_age</th>\n",
       "      <th>type_of_policy</th>\n",
       "      <th>car_make</th>\n",
       "      <th>car_model</th>\n",
       "      <th>car_year</th>\n",
       "      <th>type_of_accident</th>\n",
       "      <th>user_type</th>\n",
       "    </tr>\n",
       "  </thead>\n",
       "  <tbody>\n",
       "    <tr>\n",
       "      <th>179995</th>\n",
       "      <td>45719dbf-c504-4ee5-a8bc-ba357aaf54b5</td>\n",
       "      <td>Assign Claim</td>\n",
       "      <td>2021-10-14 12:53:43.253211</td>\n",
       "      <td>Valerie Williams</td>\n",
       "      <td>Melissa Benson</td>\n",
       "      <td>Kristin Gonzalez</td>\n",
       "      <td>8234.96</td>\n",
       "      <td>40</td>\n",
       "      <td>Comprehensive</td>\n",
       "      <td>Hyundai</td>\n",
       "      <td>Elantra</td>\n",
       "      <td>2019</td>\n",
       "      <td>Head-on</td>\n",
       "      <td>Human</td>\n",
       "    </tr>\n",
       "    <tr>\n",
       "      <th>179996</th>\n",
       "      <td>45719dbf-c504-4ee5-a8bc-ba357aaf54b5</td>\n",
       "      <td>Claim Decision</td>\n",
       "      <td>2021-10-22 10:40:02.327804</td>\n",
       "      <td>Valerie Williams</td>\n",
       "      <td>Melissa Benson</td>\n",
       "      <td>Kristin Gonzalez</td>\n",
       "      <td>8234.96</td>\n",
       "      <td>40</td>\n",
       "      <td>Comprehensive</td>\n",
       "      <td>Hyundai</td>\n",
       "      <td>Elantra</td>\n",
       "      <td>2019</td>\n",
       "      <td>Head-on</td>\n",
       "      <td>Human</td>\n",
       "    </tr>\n",
       "    <tr>\n",
       "      <th>179997</th>\n",
       "      <td>45719dbf-c504-4ee5-a8bc-ba357aaf54b5</td>\n",
       "      <td>Set Reserve</td>\n",
       "      <td>2021-10-25 14:29:19.051135</td>\n",
       "      <td>Valerie Williams</td>\n",
       "      <td>Melissa Benson</td>\n",
       "      <td>Kristin Gonzalez</td>\n",
       "      <td>8234.96</td>\n",
       "      <td>40</td>\n",
       "      <td>Comprehensive</td>\n",
       "      <td>Hyundai</td>\n",
       "      <td>Elantra</td>\n",
       "      <td>2019</td>\n",
       "      <td>Head-on</td>\n",
       "      <td>Human</td>\n",
       "    </tr>\n",
       "    <tr>\n",
       "      <th>179998</th>\n",
       "      <td>45719dbf-c504-4ee5-a8bc-ba357aaf54b5</td>\n",
       "      <td>Payment Sent</td>\n",
       "      <td>2021-11-01 19:46:22.587529</td>\n",
       "      <td>Valerie Williams</td>\n",
       "      <td>Melissa Benson</td>\n",
       "      <td>Kristin Gonzalez</td>\n",
       "      <td>8234.96</td>\n",
       "      <td>40</td>\n",
       "      <td>Comprehensive</td>\n",
       "      <td>Hyundai</td>\n",
       "      <td>Elantra</td>\n",
       "      <td>2019</td>\n",
       "      <td>Head-on</td>\n",
       "      <td>Human</td>\n",
       "    </tr>\n",
       "    <tr>\n",
       "      <th>179999</th>\n",
       "      <td>45719dbf-c504-4ee5-a8bc-ba357aaf54b5</td>\n",
       "      <td>Close Claim</td>\n",
       "      <td>2021-11-06 10:15:11.732385</td>\n",
       "      <td>Valerie Williams</td>\n",
       "      <td>Melissa Benson</td>\n",
       "      <td>Kristin Gonzalez</td>\n",
       "      <td>8234.96</td>\n",
       "      <td>40</td>\n",
       "      <td>Comprehensive</td>\n",
       "      <td>Hyundai</td>\n",
       "      <td>Elantra</td>\n",
       "      <td>2019</td>\n",
       "      <td>Head-on</td>\n",
       "      <td>Human</td>\n",
       "    </tr>\n",
       "  </tbody>\n",
       "</table>\n",
       "</div>"
      ],
      "text/plain": [
       "                                     case_id   activity_name  \\\n",
       "179995  45719dbf-c504-4ee5-a8bc-ba357aaf54b5    Assign Claim   \n",
       "179996  45719dbf-c504-4ee5-a8bc-ba357aaf54b5  Claim Decision   \n",
       "179997  45719dbf-c504-4ee5-a8bc-ba357aaf54b5     Set Reserve   \n",
       "179998  45719dbf-c504-4ee5-a8bc-ba357aaf54b5    Payment Sent   \n",
       "179999  45719dbf-c504-4ee5-a8bc-ba357aaf54b5     Close Claim   \n",
       "\n",
       "                         timestamp     claimant_name      agent_name  \\\n",
       "179995  2021-10-14 12:53:43.253211  Valerie Williams  Melissa Benson   \n",
       "179996  2021-10-22 10:40:02.327804  Valerie Williams  Melissa Benson   \n",
       "179997  2021-10-25 14:29:19.051135  Valerie Williams  Melissa Benson   \n",
       "179998  2021-11-01 19:46:22.587529  Valerie Williams  Melissa Benson   \n",
       "179999  2021-11-06 10:15:11.732385  Valerie Williams  Melissa Benson   \n",
       "\n",
       "           adjuster_name claim_amount  claimant_age type_of_policy car_make  \\\n",
       "179995  Kristin Gonzalez      8234.96            40  Comprehensive  Hyundai   \n",
       "179996  Kristin Gonzalez      8234.96            40  Comprehensive  Hyundai   \n",
       "179997  Kristin Gonzalez      8234.96            40  Comprehensive  Hyundai   \n",
       "179998  Kristin Gonzalez      8234.96            40  Comprehensive  Hyundai   \n",
       "179999  Kristin Gonzalez      8234.96            40  Comprehensive  Hyundai   \n",
       "\n",
       "       car_model  car_year type_of_accident user_type  \n",
       "179995   Elantra      2019          Head-on     Human  \n",
       "179996   Elantra      2019          Head-on     Human  \n",
       "179997   Elantra      2019          Head-on     Human  \n",
       "179998   Elantra      2019          Head-on     Human  \n",
       "179999   Elantra      2019          Head-on     Human  "
      ]
     },
     "execution_count": 59,
     "metadata": {},
     "output_type": "execute_result"
    }
   ],
   "source": [
    "df.tail()"
   ]
  },
  {
   "cell_type": "code",
   "execution_count": 60,
   "metadata": {},
   "outputs": [
    {
     "name": "stdout",
     "output_type": "stream",
     "text": [
      "<class 'pandas.core.frame.DataFrame'>\n",
      "RangeIndex: 180000 entries, 0 to 179999\n",
      "Data columns (total 14 columns):\n",
      " #   Column            Non-Null Count   Dtype \n",
      "---  ------            --------------   ----- \n",
      " 0   case_id           180000 non-null  object\n",
      " 1   activity_name     180000 non-null  object\n",
      " 2   timestamp         180000 non-null  object\n",
      " 3   claimant_name     180000 non-null  object\n",
      " 4   agent_name        180000 non-null  object\n",
      " 5   adjuster_name     180000 non-null  object\n",
      " 6   claim_amount      180000 non-null  object\n",
      " 7   claimant_age      180000 non-null  int64 \n",
      " 8   type_of_policy    180000 non-null  object\n",
      " 9   car_make          180000 non-null  object\n",
      " 10  car_model         180000 non-null  object\n",
      " 11  car_year          180000 non-null  int64 \n",
      " 12  type_of_accident  180000 non-null  object\n",
      " 13  user_type         180000 non-null  object\n",
      "dtypes: int64(2), object(12)\n",
      "memory usage: 19.2+ MB\n"
     ]
    },
    {
     "data": {
      "text/plain": [
       "None"
      ]
     },
     "metadata": {},
     "output_type": "display_data"
    }
   ],
   "source": [
    "display(df.info())"
   ]
  },
  {
   "cell_type": "code",
   "execution_count": 61,
   "metadata": {},
   "outputs": [
    {
     "data": {
      "text/html": [
       "<div>\n",
       "<style scoped>\n",
       "    .dataframe tbody tr th:only-of-type {\n",
       "        vertical-align: middle;\n",
       "    }\n",
       "\n",
       "    .dataframe tbody tr th {\n",
       "        vertical-align: top;\n",
       "    }\n",
       "\n",
       "    .dataframe thead th {\n",
       "        text-align: right;\n",
       "    }\n",
       "</style>\n",
       "<table border=\"1\" class=\"dataframe\">\n",
       "  <thead>\n",
       "    <tr style=\"text-align: right;\">\n",
       "      <th></th>\n",
       "      <th>claim_amount</th>\n",
       "      <th>claimant_age</th>\n",
       "      <th>car_year</th>\n",
       "    </tr>\n",
       "  </thead>\n",
       "  <tbody>\n",
       "    <tr>\n",
       "      <th>count</th>\n",
       "      <td>180000.000000</td>\n",
       "      <td>180000.000000</td>\n",
       "      <td>180000.000000</td>\n",
       "    </tr>\n",
       "    <tr>\n",
       "      <th>mean</th>\n",
       "      <td>5498.598991</td>\n",
       "      <td>51.510233</td>\n",
       "      <td>2016.034367</td>\n",
       "    </tr>\n",
       "    <tr>\n",
       "      <th>std</th>\n",
       "      <td>2601.273015</td>\n",
       "      <td>19.691143</td>\n",
       "      <td>3.745014</td>\n",
       "    </tr>\n",
       "    <tr>\n",
       "      <th>min</th>\n",
       "      <td>1000.280000</td>\n",
       "      <td>18.000000</td>\n",
       "      <td>2010.000000</td>\n",
       "    </tr>\n",
       "    <tr>\n",
       "      <th>25%</th>\n",
       "      <td>3242.482500</td>\n",
       "      <td>34.000000</td>\n",
       "      <td>2013.000000</td>\n",
       "    </tr>\n",
       "    <tr>\n",
       "      <th>50%</th>\n",
       "      <td>5498.965000</td>\n",
       "      <td>52.000000</td>\n",
       "      <td>2016.000000</td>\n",
       "    </tr>\n",
       "    <tr>\n",
       "      <th>75%</th>\n",
       "      <td>7758.817500</td>\n",
       "      <td>69.000000</td>\n",
       "      <td>2019.000000</td>\n",
       "    </tr>\n",
       "    <tr>\n",
       "      <th>max</th>\n",
       "      <td>9999.470000</td>\n",
       "      <td>85.000000</td>\n",
       "      <td>2022.000000</td>\n",
       "    </tr>\n",
       "  </tbody>\n",
       "</table>\n",
       "</div>"
      ],
      "text/plain": [
       "        claim_amount   claimant_age       car_year\n",
       "count  180000.000000  180000.000000  180000.000000\n",
       "mean     5498.598991      51.510233    2016.034367\n",
       "std      2601.273015      19.691143       3.745014\n",
       "min      1000.280000      18.000000    2010.000000\n",
       "25%      3242.482500      34.000000    2013.000000\n",
       "50%      5498.965000      52.000000    2016.000000\n",
       "75%      7758.817500      69.000000    2019.000000\n",
       "max      9999.470000      85.000000    2022.000000"
      ]
     },
     "execution_count": 61,
     "metadata": {},
     "output_type": "execute_result"
    }
   ],
   "source": [
    "df['claim_amount'] = df['claim_amount'].astype(float)\n",
    "\n",
    "df.describe()"
   ]
  },
  {
   "cell_type": "code",
   "execution_count": 62,
   "metadata": {},
   "outputs": [
    {
     "data": {
      "text/plain": [
       "activity_name\n",
       "First Notification of Loss (FNOL)    30000\n",
       "Assign Claim                         30000\n",
       "Claim Decision                       30000\n",
       "Set Reserve                          30000\n",
       "Payment Sent                         30000\n",
       "Close Claim                          30000\n",
       "Name: count, dtype: int64"
      ]
     },
     "metadata": {},
     "output_type": "display_data"
    },
    {
     "data": {
      "text/plain": [
       "car_model\n",
       "F-150        26640\n",
       "Camry        26376\n",
       "Civic        25716\n",
       "Wrangler     25632\n",
       "Silverado    25554\n",
       "Elantra      25188\n",
       "Altima       24894\n",
       "Name: count, dtype: int64"
      ]
     },
     "metadata": {},
     "output_type": "display_data"
    },
    {
     "data": {
      "text/plain": [
       "adjuster_name\n",
       "Michael Smith        90\n",
       "Michael Johnson      78\n",
       "Jennifer Jones       72\n",
       "James Smith          72\n",
       "Joseph Miller        60\n",
       "                     ..\n",
       "Elizabeth Jackson     6\n",
       "Vicki Olson           6\n",
       "John Marshall         6\n",
       "Nicholas Martinez     6\n",
       "Martin Wilson         6\n",
       "Name: count, Length: 25797, dtype: int64"
      ]
     },
     "metadata": {},
     "output_type": "display_data"
    },
    {
     "data": {
      "text/plain": [
       "case_id\n",
       "a626bc58-a7b2-4eff-aca9-2a622cd0c492    6\n",
       "bf906a2a-3909-4244-beab-01e53c71287a    6\n",
       "cbaa115c-30b7-417d-a597-810b140f5f30    6\n",
       "5e082d0f-ec45-4e0a-bc95-6fda8f4f25f0    6\n",
       "b8837236-d361-470d-a365-29945797b47e    6\n",
       "                                       ..\n",
       "e2f9ba68-3794-4644-b034-64f929292835    6\n",
       "c35438bd-b13c-4927-932d-efb53008852a    6\n",
       "c7591db8-7d82-4667-8f9d-5d861c1bbe46    6\n",
       "9887c1b1-7bc9-47f9-9bcc-5b4dcf61e04e    6\n",
       "45719dbf-c504-4ee5-a8bc-ba357aaf54b5    6\n",
       "Name: count, Length: 30000, dtype: int64"
      ]
     },
     "metadata": {},
     "output_type": "display_data"
    },
    {
     "data": {
      "text/plain": [
       "car_make\n",
       "Ford         26640\n",
       "Toyota       26376\n",
       "Honda        25716\n",
       "Jeep         25632\n",
       "Chevrolet    25554\n",
       "Hyundai      25188\n",
       "Nissan       24894\n",
       "Name: count, dtype: int64"
      ]
     },
     "metadata": {},
     "output_type": "display_data"
    },
    {
     "data": {
      "text/plain": [
       "claimant_name\n",
       "Michael Smith       102\n",
       "Jennifer Smith       90\n",
       "Michael Williams     78\n",
       "John Smith           78\n",
       "James Smith          78\n",
       "                   ... \n",
       "Amber Hinton          6\n",
       "Frank Smith DVM       6\n",
       "Steven Steele         6\n",
       "Laura Jackson         6\n",
       "Valerie Williams      6\n",
       "Name: count, Length: 25778, dtype: int64"
      ]
     },
     "metadata": {},
     "output_type": "display_data"
    },
    {
     "data": {
      "text/plain": [
       "type_of_accident\n",
       "Side-impact    45660\n",
       "Head-on        44994\n",
       "Rear-end       44946\n",
       "Rollover       44400\n",
       "Name: count, dtype: int64"
      ]
     },
     "metadata": {},
     "output_type": "display_data"
    },
    {
     "data": {
      "text/plain": [
       "type_of_policy\n",
       "Collision        60126\n",
       "Comprehensive    60018\n",
       "Liability        59856\n",
       "Name: count, dtype: int64"
      ]
     },
     "metadata": {},
     "output_type": "display_data"
    },
    {
     "data": {
      "text/plain": [
       "user_type\n",
       "Human    116400\n",
       "RPA       63600\n",
       "Name: count, dtype: int64"
      ]
     },
     "metadata": {},
     "output_type": "display_data"
    },
    {
     "data": {
      "text/plain": [
       "agent_name\n",
       "Michael Smith      72\n",
       "Jennifer Smith     60\n",
       "Jessica Smith      60\n",
       "Robert Jones       60\n",
       "Michael Brown      60\n",
       "                   ..\n",
       "Patrick Taylor      6\n",
       "Ashley Bartlett     6\n",
       "David English       6\n",
       "Jackson Gray        6\n",
       "Melissa Benson      6\n",
       "Name: count, Length: 25862, dtype: int64"
      ]
     },
     "metadata": {},
     "output_type": "display_data"
    },
    {
     "data": {
      "text/plain": [
       "car_year\n",
       "2020    14346\n",
       "2022    14244\n",
       "2015    14220\n",
       "2021    13992\n",
       "2011    13944\n",
       "2018    13884\n",
       "2017    13884\n",
       "2016    13860\n",
       "2014    13752\n",
       "2013    13692\n",
       "2010    13566\n",
       "2012    13458\n",
       "2019    13158\n",
       "Name: count, dtype: int64"
      ]
     },
     "metadata": {},
     "output_type": "display_data"
    },
    {
     "data": {
      "text/plain": [
       "claim_amount\n",
       "1747.99    18\n",
       "6276.33    18\n",
       "8763.05    18\n",
       "8320.88    18\n",
       "9008.92    18\n",
       "           ..\n",
       "8047.64     6\n",
       "6740.18     6\n",
       "8972.79     6\n",
       "3188.33     6\n",
       "8234.96     6\n",
       "Name: count, Length: 29519, dtype: int64"
      ]
     },
     "metadata": {},
     "output_type": "display_data"
    },
    {
     "data": {
      "text/plain": [
       "claimant_age\n",
       "54    2940\n",
       "53    2868\n",
       "23    2832\n",
       "29    2820\n",
       "78    2814\n",
       "      ... \n",
       "31    2478\n",
       "71    2478\n",
       "46    2442\n",
       "40    2430\n",
       "62    2304\n",
       "Name: count, Length: 68, dtype: int64"
      ]
     },
     "metadata": {},
     "output_type": "display_data"
    }
   ],
   "source": [
    "#Contagem de valores únicos para verificar variações de frequência\n",
    "\n",
    "display(df['activity_name'].value_counts())\n",
    "display(df['car_model'].value_counts())\n",
    "display(df['adjuster_name'].value_counts())\n",
    "display(df['case_id'].value_counts())\n",
    "display(df['car_make'].value_counts())\n",
    "display(df['claimant_name'].value_counts())\n",
    "display(df['type_of_accident'].value_counts())\n",
    "display(df['type_of_policy'].value_counts())\n",
    "display(df['user_type'].value_counts())\n",
    "display(df['agent_name'].value_counts())\n",
    "display(df['car_year'].value_counts())\n",
    "display(df['claim_amount'].value_counts())\n",
    "display(df['claimant_age'].value_counts())\n"
   ]
  },
  {
   "cell_type": "code",
   "execution_count": 63,
   "metadata": {},
   "outputs": [
    {
     "data": {
      "image/png": "[encoded data removed]",
      "text/plain": [
       "<Figure size 640x480 with 1 Axes>"
      ]
     },
     "metadata": {},
     "output_type": "display_data"
    }
   ],
   "source": [
    "claimant_age_list = df['claimant_age']\n",
    "fig, ax = plt.subplots()\n",
    "ax.boxplot(claimant_age_list)\n",
    "plt.title('Boxplot Idade Requerente')\n",
    "plt.show()"
   ]
  },
  {
   "cell_type": "code",
   "execution_count": 64,
   "metadata": {},
   "outputs": [
    {
     "data": {
      "image/png": "[encoded data removed]",
      "text/plain": [
       "<Figure size 640x480 with 1 Axes>"
      ]
     },
     "metadata": {},
     "output_type": "display_data"
    }
   ],
   "source": [
    "car_year_list = df['car_year']\n",
    "fig, ax = plt.subplots()\n",
    "ax.boxplot(car_year_list)\n",
    "plt.title('Boxplot Ano Carro')\n",
    "plt.show()"
   ]
  },
  {
   "cell_type": "code",
   "execution_count": 65,
   "metadata": {},
   "outputs": [
    {
     "data": {
      "image/png": "[encoded data removed]",
      "text/plain": [
       "<Figure size 640x480 with 1 Axes>"
      ]
     },
     "metadata": {},
     "output_type": "display_data"
    }
   ],
   "source": [
    "claim_ammount_list = df['claim_amount']\n",
    "fig, ax = plt.subplots()\n",
    "ax.boxplot(claim_ammount_list)\n",
    "plt.show()"
   ]
  },
  {
   "cell_type": "code",
   "execution_count": 66,
   "metadata": {},
   "outputs": [],
   "source": [
    "# contagem_idades = df['claimant_age'].value_counts()\n",
    "# contagem_idades.sort_index(inplace=True)\n",
    "\n",
    "# plt.figure(figsize=(25,6))\n",
    "\n",
    "# plt.bar(contagem_idades.index, contagem_idades.values)\n",
    "\n",
    "# plt.xticks(contagem_idades.index)\n",
    "\n",
    "# plt.xlabel('idade')\n",
    "# plt.ylabel('quantidade')\n",
    "# plt.title('Volumetria idades')\n",
    "\n",
    "# plt.show()"
   ]
  },
  {
   "cell_type": "code",
   "execution_count": 67,
   "metadata": {},
   "outputs": [],
   "source": [
    "\n",
    "# contagem_ano_carro = df['car_year'].value_counts()\n",
    "# contagem_ano_carro.sort_index(inplace=True)\n",
    "\n",
    "# plt.figure(figsize=(25,6))\n",
    "\n",
    "# plt.bar(contagem_ano_carro.index, contagem_ano_carro.values)\n",
    "\n",
    "# plt.xticks(contagem_ano_carro.index)\n",
    "\n",
    "# plt.xlabel('ano')\n",
    "# plt.ylabel('quantidade')\n",
    "# plt.title('Volumetria Ano Carro')\n",
    "\n",
    "# plt.show()"
   ]
  },
  {
   "cell_type": "code",
   "execution_count": 68,
   "metadata": {},
   "outputs": [
    {
     "data": {
      "image/png": "[encoded data removed]",
      "text/plain": [
       "<Figure size 2500x600 with 1 Axes>"
      ]
     },
     "metadata": {},
     "output_type": "display_data"
    }
   ],
   "source": [
    "contagem_user_type = df['user_type'].value_counts()\n",
    "contagem_user_type.sort_index(inplace=True)\n",
    "\n",
    "plt.figure(figsize=(25,6))\n",
    "\n",
    "plt.bar(contagem_user_type.index, contagem_user_type.values)\n",
    "\n",
    "plt.xticks(contagem_user_type.index)\n",
    "\n",
    "plt.xlabel('user')\n",
    "plt.ylabel('quantidade')\n",
    "plt.title('Volumetria Usertype')\n",
    "\n",
    "plt.show()"
   ]
  },
  {
   "cell_type": "code",
   "execution_count": 69,
   "metadata": {},
   "outputs": [
    {
     "data": {
      "image/png": "[encoded data removed]",
      "text/plain": [
       "<Figure size 2000x600 with 1 Axes>"
      ]
     },
     "metadata": {},
     "output_type": "display_data"
    }
   ],
   "source": [
    "cont_adjuster_name = df['adjuster_name'].value_counts()\n",
    "cont_adjuster_name.sort_values(inplace=True, ascending=False)\n",
    "\n",
    "plt.figure(figsize=(20,6))\n",
    "\n",
    "plt.bar(cont_adjuster_name.index, cont_adjuster_name.values, width=1.0)\n",
    "\n",
    "mean_adjuster_name = np.mean(cont_adjuster_name.values)\n",
    "mean_adjuster_name = round(mean_adjuster_name, 2)\n",
    "\n",
    "plt.axhline(y=mean_adjuster_name, color='r', linestyle = '--')\n",
    "\n",
    "plt.text(0, mean_adjuster_name, f'Media: {mean_adjuster_name}', color='r', va='bottom', ha= 'right')\n",
    "\n",
    "plt.xticks([])\n",
    "\n",
    "plt.xlabel('ajustadores')\n",
    "plt.ylabel('quantidade')\n",
    "plt.title('Volumetria Ajustadores')\n",
    "\n",
    "plt.show()"
   ]
  },
  {
   "cell_type": "code",
   "execution_count": null,
   "metadata": {},
   "outputs": [],
   "source": []
  }
 ],
 "metadata": {
  "kernelspec": {
   "display_name": "PMSeguradoraEnv",
   "language": "python",
   "name": "python3"
  },
  "language_info": {
   "codemirror_mode": {
    "name": "ipython",
    "version": 3
   },
   "file_extension": ".py",
   "mimetype": "text/x-python",
   "name": "python",
   "nbconvert_exporter": "python",
   "pygments_lexer": "ipython3",
   "version": "3.12.2"
  }
 },
 "nbformat": 4,
 "nbformat_minor": 2
}
